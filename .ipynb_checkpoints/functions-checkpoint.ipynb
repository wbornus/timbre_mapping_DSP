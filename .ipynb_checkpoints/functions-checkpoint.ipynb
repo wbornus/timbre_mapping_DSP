{
 "cells": [
  {
   "cell_type": "code",
   "execution_count": 2,
   "metadata": {},
   "outputs": [],
   "source": [
    "import numpy as np\n",
    "from scipy import fft"
   ]
  },
  {
   "cell_type": "code",
   "execution_count": 4,
   "metadata": {},
   "outputs": [],
   "source": [
    "def sample_fft(sample, fs):\n",
    "    '''returns amplitude and phase - Fast Fourier Transform algorithm'''\n",
    "    transform = fft(sample)\n",
    "    transform_half = np.array([])\n",
    "    transform_half = transform[0:int(len(transform)/2)]\n",
    "    amp = np.abs(transform_half)\n",
    "    phase = np.angle(transform_half)\n",
    "    \n",
    "    size = int(len(transform_half))\n",
    "    freq_ratio = fs/(2*size)\n",
    "    freq_base = np.array([])\n",
    "    for i in range(size):\n",
    "        freq_base = np.append(freq_base, i*freq_ratio)\n",
    "    \n",
    "    return amp_vector, phase_freq_vector, freq_ratio"
   ]
  },
  {
   "cell_type": "code",
   "execution_count": 5,
   "metadata": {},
   "outputs": [],
   "source": [
    "def normalize(data):\n",
    "    abs_data = map(abs,data)\n",
    "    max_value = max(abs_data)\n",
    "    data = data/max_value\n",
    "    return data"
   ]
  },
  {
   "cell_type": "code",
   "execution_count": 6,
   "metadata": {},
   "outputs": [],
   "source": [
    "def spectrum_arrays(amp_vector, phase_vector, freq_ratio, fundamental_freq):\n",
    "    simplified_amplitude_spectrum = np.array([])\n",
    "    for i in range(len(data)):\n",
    "        if data[i] > data[i - 1] and data[i] > data[i + 1]:\n",
    "            simplified_amplitude_spectrum = np.append(simplified_amplitude_spectrum, data[i])\n",
    "        else:\n",
    "            simplified_amplitude_spectrum = np.append(simplified_amplitude_spectrum, 0.0)\n",
    "            \n",
    "    amp_array()\n",
    "    \n",
    "            \n",
    "    return "
   ]
  },
  {
   "cell_type": "code",
   "execution_count": null,
   "metadata": {},
   "outputs": [],
   "source": []
  },
  {
   "cell_type": "code",
   "execution_count": null,
   "metadata": {},
   "outputs": [],
   "source": [
    "def generate_piano(input_freq, amp_vector, phase_vector):\n",
    "    freq_array = np.array([])\n",
    "    amp_array = np.array([])\n",
    "    phase_array = np.array([])\n",
    "    \n",
    "    for i in range(len(fft_vector)):\n",
    "        if fft_vector[i] > 0:\n",
    "            \n",
    "                \n",
    "    "
   ]
  }
 ],
 "metadata": {
  "kernelspec": {
   "display_name": "Python 3",
   "language": "python",
   "name": "python3"
  },
  "language_info": {
   "codemirror_mode": {
    "name": "ipython",
    "version": 3
   },
   "file_extension": ".py",
   "mimetype": "text/x-python",
   "name": "python",
   "nbconvert_exporter": "python",
   "pygments_lexer": "ipython3",
   "version": "3.7.2"
  }
 },
 "nbformat": 4,
 "nbformat_minor": 2
}

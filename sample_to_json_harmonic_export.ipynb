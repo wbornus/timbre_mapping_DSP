{
 "cells": [
  {
   "cell_type": "code",
   "execution_count": 37,
   "metadata": {},
   "outputs": [],
   "source": [
    "from scipy.io import wavfile\n",
    "import json\n",
    "import numpy as np\n",
    "from matplotlib import pyplot as plt\n",
    "from extract_fundamental_freq import extract_fundamental_freq\n",
    "import os\n",
    "from scipy.fftpack import fft"
   ]
  },
  {
   "cell_type": "code",
   "execution_count": 52,
   "metadata": {
    "scrolled": true
   },
   "outputs": [],
   "source": [
    "init_path = 'timbre_wav_files/'\n",
    "f_names = os.listdir(init_path)\n",
    "harmonics = {}\n",
    "for instrument_file_name in f_names:\n",
    "    fs, data = wavfile.read(init_path + instrument_file_name)\n",
    "    data = np.array(data)\n",
    "    if len(data.shape) > 1:\n",
    "        data = data[:, 0]\n",
    "    n_samples = 8192\n",
    "    spectrum_sample_width = n_samples // 2\n",
    "    freq_ratio = fs / spectrum_sample_width\n",
    "    data = data[:n_samples]\n",
    "    #extracting_fundamental\n",
    "    fundamental_freq = extract_fundamental_freq(data, fs)\n",
    "    data_fft = fft(data)\n",
    "    fft_data_halved = np.array(data_fft[:len(data_fft) // 2])\n",
    "    amplitude_spectrum = np.abs(fft_data_halved)\n",
    "    phase_spectrum = np.angle(fft_data_halved)\n",
    "    \n",
    "    fundamental_idx = int(fundamental_freq // freq_ratio)\n",
    "    harmonics_nums = np.arange(1, 20)\n",
    "    harmonic_idxs = harmonics_nums * fundamental_idx\n",
    "    \n",
    "    harmonic_amplitudes = amplitude_spectrum[harmonic_idxs]\n",
    "    harmonic_phases = phase_spectrum[harmonic_idxs]\n",
    "    \n",
    "    harmonic_coefficients = np.concatenate((\n",
    "        harmonic_amplitudes, harmonic_phases), axis = 0).tolist()\n",
    "    \n",
    "    instrument_name = instrument_file_name.replace('.wav', '')\n",
    "    harmonics[instrument_name] = harmonic_coefficients\n",
    "    \n",
    "    "
   ]
  },
  {
   "cell_type": "code",
   "execution_count": 53,
   "metadata": {},
   "outputs": [
    {
     "data": {
      "text/plain": [
       "[<matplotlib.lines.Line2D at 0x29670951358>]"
      ]
     },
     "execution_count": 53,
     "metadata": {},
     "output_type": "execute_result"
    },
    {
     "data": {
      "image/png": "[encoded data removed]",
      "text/plain": [
       "<Figure size 432x288 with 1 Axes>"
      ]
     },
     "metadata": {
      "needs_background": "light"
     },
     "output_type": "display_data"
    }
   ],
   "source": [
    "plt.plot(harmonics['saxophone'])"
   ]
  },
  {
   "cell_type": "code",
   "execution_count": 54,
   "metadata": {},
   "outputs": [],
   "source": [
    "with open('harmonics.json', 'w') as fp:\n",
    "    json.dump(harmonics, fp)"
   ]
  }
 ],
 "metadata": {
  "kernelspec": {
   "display_name": "Python 3",
   "language": "python",
   "name": "python3"
  },
  "language_info": {
   "codemirror_mode": {
    "name": "ipython",
    "version": 3
   },
   "file_extension": ".py",
   "mimetype": "text/x-python",
   "name": "python",
   "nbconvert_exporter": "python",
   "pygments_lexer": "ipython3",
   "version": "3.6.8rc1"
  }
 },
 "nbformat": 4,
 "nbformat_minor": 2
}
